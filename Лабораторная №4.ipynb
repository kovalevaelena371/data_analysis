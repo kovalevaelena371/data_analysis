{
 "cells": [
  {
   "cell_type": "markdown",
   "metadata": {},
   "source": [
    "#### Лабораторная работа №4.\n",
    "#### Ковалёва Елена. 20152."
   ]
  },
  {
   "cell_type": "code",
   "execution_count": 1,
   "metadata": {},
   "outputs": [],
   "source": [
    "import numpy as np\n",
    "import pandas as pd\n",
    "import statsmodels.api as sm\n",
    "import matplotlib.pyplot as plt\n",
    "import seaborn as sns\n",
    "from scipy import stats\n",
    "from scipy.stats import norm\n",
    "from sklearn.linear_model import LinearRegression\n",
    "from sklearn.ensemble import GradientBoostingClassifier\n",
    "from sklearn.ensemble import GradientBoostingRegressor\n",
    "from sklearn.model_selection import train_test_split\n",
    "from sklearn import preprocessing\n",
    "import math\n",
    "import pandas_profiling as pp"
   ]
  },
  {
   "cell_type": "code",
   "execution_count": 2,
   "metadata": {},
   "outputs": [],
   "source": [
    "from sklearn.metrics import mean_absolute_error"
   ]
  },
  {
   "cell_type": "code",
   "execution_count": 3,
   "metadata": {},
   "outputs": [],
   "source": [
    "houses = pd.read_csv('data.csv')\n",
    "##загружаем Dataset и смотрим его значения."
   ]
  },
  {
   "cell_type": "code",
   "execution_count": 4,
   "metadata": {},
   "outputs": [
    {
     "name": "stdout",
     "output_type": "stream",
     "text": [
      "<class 'pandas.core.frame.DataFrame'>\n",
      "RangeIndex: 4600 entries, 0 to 4599\n",
      "Data columns (total 18 columns):\n",
      " #   Column         Non-Null Count  Dtype  \n",
      "---  ------         --------------  -----  \n",
      " 0   date           4600 non-null   object \n",
      " 1   price          4600 non-null   float64\n",
      " 2   bedrooms       4600 non-null   float64\n",
      " 3   bathrooms      4600 non-null   float64\n",
      " 4   sqft_living    4600 non-null   int64  \n",
      " 5   sqft_lot       4600 non-null   int64  \n",
      " 6   floors         4600 non-null   float64\n",
      " 7   waterfront     4600 non-null   int64  \n",
      " 8   view           4600 non-null   int64  \n",
      " 9   condition      4600 non-null   int64  \n",
      " 10  sqft_above     4600 non-null   int64  \n",
      " 11  sqft_basement  4600 non-null   int64  \n",
      " 12  yr_built       4600 non-null   int64  \n",
      " 13  yr_renovated   4600 non-null   int64  \n",
      " 14  street         4600 non-null   object \n",
      " 15  city           4600 non-null   object \n",
      " 16  statezip       4600 non-null   object \n",
      " 17  country        4600 non-null   object \n",
      "dtypes: float64(4), int64(9), object(5)\n",
      "memory usage: 647.0+ KB\n"
     ]
    }
   ],
   "source": [
    "houses.info()"
   ]
  },
  {
   "cell_type": "code",
   "execution_count": 5,
   "metadata": {},
   "outputs": [
    {
     "data": {
      "text/plain": [
       "(4600, 18)"
      ]
     },
     "execution_count": 5,
     "metadata": {},
     "output_type": "execute_result"
    }
   ],
   "source": [
    "houses.shape"
   ]
  },
  {
   "cell_type": "markdown",
   "metadata": {},
   "source": [
    "В нашем Dataset левая часть показывает количество домов-4600.\n",
    "В правой колонке набор данных-18.\n",
    "Пропущенных значений-0."
   ]
  },
  {
   "cell_type": "code",
   "execution_count": 6,
   "metadata": {},
   "outputs": [
    {
     "data": {
      "text/html": [
       "<div>\n",
       "<style scoped>\n",
       "    .dataframe tbody tr th:only-of-type {\n",
       "        vertical-align: middle;\n",
       "    }\n",
       "\n",
       "    .dataframe tbody tr th {\n",
       "        vertical-align: top;\n",
       "    }\n",
       "\n",
       "    .dataframe thead th {\n",
       "        text-align: right;\n",
       "    }\n",
       "</style>\n",
       "<table border=\"1\" class=\"dataframe\">\n",
       "  <thead>\n",
       "    <tr style=\"text-align: right;\">\n",
       "      <th></th>\n",
       "      <th>date</th>\n",
       "      <th>price</th>\n",
       "      <th>bedrooms</th>\n",
       "      <th>bathrooms</th>\n",
       "      <th>sqft_living</th>\n",
       "      <th>sqft_lot</th>\n",
       "      <th>floors</th>\n",
       "      <th>waterfront</th>\n",
       "      <th>view</th>\n",
       "      <th>condition</th>\n",
       "      <th>sqft_above</th>\n",
       "      <th>sqft_basement</th>\n",
       "      <th>yr_built</th>\n",
       "      <th>yr_renovated</th>\n",
       "      <th>street</th>\n",
       "      <th>city</th>\n",
       "      <th>statezip</th>\n",
       "      <th>country</th>\n",
       "    </tr>\n",
       "  </thead>\n",
       "  <tbody>\n",
       "    <tr>\n",
       "      <th>0</th>\n",
       "      <td>2014-05-02 00:00:00</td>\n",
       "      <td>313000.0</td>\n",
       "      <td>3.0</td>\n",
       "      <td>1.50</td>\n",
       "      <td>1340</td>\n",
       "      <td>7912</td>\n",
       "      <td>1.5</td>\n",
       "      <td>0</td>\n",
       "      <td>0</td>\n",
       "      <td>3</td>\n",
       "      <td>1340</td>\n",
       "      <td>0</td>\n",
       "      <td>1955</td>\n",
       "      <td>2005</td>\n",
       "      <td>18810 Densmore Ave N</td>\n",
       "      <td>Shoreline</td>\n",
       "      <td>WA 98133</td>\n",
       "      <td>USA</td>\n",
       "    </tr>\n",
       "    <tr>\n",
       "      <th>1</th>\n",
       "      <td>2014-05-02 00:00:00</td>\n",
       "      <td>2384000.0</td>\n",
       "      <td>5.0</td>\n",
       "      <td>2.50</td>\n",
       "      <td>3650</td>\n",
       "      <td>9050</td>\n",
       "      <td>2.0</td>\n",
       "      <td>0</td>\n",
       "      <td>4</td>\n",
       "      <td>5</td>\n",
       "      <td>3370</td>\n",
       "      <td>280</td>\n",
       "      <td>1921</td>\n",
       "      <td>0</td>\n",
       "      <td>709 W Blaine St</td>\n",
       "      <td>Seattle</td>\n",
       "      <td>WA 98119</td>\n",
       "      <td>USA</td>\n",
       "    </tr>\n",
       "    <tr>\n",
       "      <th>2</th>\n",
       "      <td>2014-05-02 00:00:00</td>\n",
       "      <td>342000.0</td>\n",
       "      <td>3.0</td>\n",
       "      <td>2.00</td>\n",
       "      <td>1930</td>\n",
       "      <td>11947</td>\n",
       "      <td>1.0</td>\n",
       "      <td>0</td>\n",
       "      <td>0</td>\n",
       "      <td>4</td>\n",
       "      <td>1930</td>\n",
       "      <td>0</td>\n",
       "      <td>1966</td>\n",
       "      <td>0</td>\n",
       "      <td>26206-26214 143rd Ave SE</td>\n",
       "      <td>Kent</td>\n",
       "      <td>WA 98042</td>\n",
       "      <td>USA</td>\n",
       "    </tr>\n",
       "    <tr>\n",
       "      <th>3</th>\n",
       "      <td>2014-05-02 00:00:00</td>\n",
       "      <td>420000.0</td>\n",
       "      <td>3.0</td>\n",
       "      <td>2.25</td>\n",
       "      <td>2000</td>\n",
       "      <td>8030</td>\n",
       "      <td>1.0</td>\n",
       "      <td>0</td>\n",
       "      <td>0</td>\n",
       "      <td>4</td>\n",
       "      <td>1000</td>\n",
       "      <td>1000</td>\n",
       "      <td>1963</td>\n",
       "      <td>0</td>\n",
       "      <td>857 170th Pl NE</td>\n",
       "      <td>Bellevue</td>\n",
       "      <td>WA 98008</td>\n",
       "      <td>USA</td>\n",
       "    </tr>\n",
       "    <tr>\n",
       "      <th>4</th>\n",
       "      <td>2014-05-02 00:00:00</td>\n",
       "      <td>550000.0</td>\n",
       "      <td>4.0</td>\n",
       "      <td>2.50</td>\n",
       "      <td>1940</td>\n",
       "      <td>10500</td>\n",
       "      <td>1.0</td>\n",
       "      <td>0</td>\n",
       "      <td>0</td>\n",
       "      <td>4</td>\n",
       "      <td>1140</td>\n",
       "      <td>800</td>\n",
       "      <td>1976</td>\n",
       "      <td>1992</td>\n",
       "      <td>9105 170th Ave NE</td>\n",
       "      <td>Redmond</td>\n",
       "      <td>WA 98052</td>\n",
       "      <td>USA</td>\n",
       "    </tr>\n",
       "  </tbody>\n",
       "</table>\n",
       "</div>"
      ],
      "text/plain": [
       "                  date      price  bedrooms  bathrooms  sqft_living  sqft_lot  \\\n",
       "0  2014-05-02 00:00:00   313000.0       3.0       1.50         1340      7912   \n",
       "1  2014-05-02 00:00:00  2384000.0       5.0       2.50         3650      9050   \n",
       "2  2014-05-02 00:00:00   342000.0       3.0       2.00         1930     11947   \n",
       "3  2014-05-02 00:00:00   420000.0       3.0       2.25         2000      8030   \n",
       "4  2014-05-02 00:00:00   550000.0       4.0       2.50         1940     10500   \n",
       "\n",
       "   floors  waterfront  view  condition  sqft_above  sqft_basement  yr_built  \\\n",
       "0     1.5           0     0          3        1340              0      1955   \n",
       "1     2.0           0     4          5        3370            280      1921   \n",
       "2     1.0           0     0          4        1930              0      1966   \n",
       "3     1.0           0     0          4        1000           1000      1963   \n",
       "4     1.0           0     0          4        1140            800      1976   \n",
       "\n",
       "   yr_renovated                    street       city  statezip country  \n",
       "0          2005      18810 Densmore Ave N  Shoreline  WA 98133     USA  \n",
       "1             0           709 W Blaine St    Seattle  WA 98119     USA  \n",
       "2             0  26206-26214 143rd Ave SE       Kent  WA 98042     USA  \n",
       "3             0           857 170th Pl NE   Bellevue  WA 98008     USA  \n",
       "4          1992         9105 170th Ave NE    Redmond  WA 98052     USA  "
      ]
     },
     "execution_count": 6,
     "metadata": {},
     "output_type": "execute_result"
    }
   ],
   "source": [
    "houses.head()"
   ]
  },
  {
   "cell_type": "code",
   "execution_count": 7,
   "metadata": {},
   "outputs": [
    {
     "data": {
      "text/html": [
       "<div>\n",
       "<style scoped>\n",
       "    .dataframe tbody tr th:only-of-type {\n",
       "        vertical-align: middle;\n",
       "    }\n",
       "\n",
       "    .dataframe tbody tr th {\n",
       "        vertical-align: top;\n",
       "    }\n",
       "\n",
       "    .dataframe thead th {\n",
       "        text-align: right;\n",
       "    }\n",
       "</style>\n",
       "<table border=\"1\" class=\"dataframe\">\n",
       "  <thead>\n",
       "    <tr style=\"text-align: right;\">\n",
       "      <th></th>\n",
       "      <th>price</th>\n",
       "      <th>bedrooms</th>\n",
       "      <th>bathrooms</th>\n",
       "      <th>sqft_living</th>\n",
       "      <th>sqft_lot</th>\n",
       "      <th>floors</th>\n",
       "      <th>waterfront</th>\n",
       "      <th>view</th>\n",
       "      <th>condition</th>\n",
       "      <th>sqft_above</th>\n",
       "      <th>sqft_basement</th>\n",
       "      <th>yr_built</th>\n",
       "      <th>yr_renovated</th>\n",
       "      <th>city</th>\n",
       "      <th>statezip</th>\n",
       "    </tr>\n",
       "  </thead>\n",
       "  <tbody>\n",
       "    <tr>\n",
       "      <th>0</th>\n",
       "      <td>313000.0</td>\n",
       "      <td>3.0</td>\n",
       "      <td>1.50</td>\n",
       "      <td>1340</td>\n",
       "      <td>7912</td>\n",
       "      <td>1.5</td>\n",
       "      <td>0</td>\n",
       "      <td>0</td>\n",
       "      <td>3</td>\n",
       "      <td>1340</td>\n",
       "      <td>0</td>\n",
       "      <td>1955</td>\n",
       "      <td>2005</td>\n",
       "      <td>Shoreline</td>\n",
       "      <td>WA 98133</td>\n",
       "    </tr>\n",
       "    <tr>\n",
       "      <th>1</th>\n",
       "      <td>2384000.0</td>\n",
       "      <td>5.0</td>\n",
       "      <td>2.50</td>\n",
       "      <td>3650</td>\n",
       "      <td>9050</td>\n",
       "      <td>2.0</td>\n",
       "      <td>0</td>\n",
       "      <td>4</td>\n",
       "      <td>5</td>\n",
       "      <td>3370</td>\n",
       "      <td>280</td>\n",
       "      <td>1921</td>\n",
       "      <td>0</td>\n",
       "      <td>Seattle</td>\n",
       "      <td>WA 98119</td>\n",
       "    </tr>\n",
       "    <tr>\n",
       "      <th>2</th>\n",
       "      <td>342000.0</td>\n",
       "      <td>3.0</td>\n",
       "      <td>2.00</td>\n",
       "      <td>1930</td>\n",
       "      <td>11947</td>\n",
       "      <td>1.0</td>\n",
       "      <td>0</td>\n",
       "      <td>0</td>\n",
       "      <td>4</td>\n",
       "      <td>1930</td>\n",
       "      <td>0</td>\n",
       "      <td>1966</td>\n",
       "      <td>0</td>\n",
       "      <td>Kent</td>\n",
       "      <td>WA 98042</td>\n",
       "    </tr>\n",
       "    <tr>\n",
       "      <th>3</th>\n",
       "      <td>420000.0</td>\n",
       "      <td>3.0</td>\n",
       "      <td>2.25</td>\n",
       "      <td>2000</td>\n",
       "      <td>8030</td>\n",
       "      <td>1.0</td>\n",
       "      <td>0</td>\n",
       "      <td>0</td>\n",
       "      <td>4</td>\n",
       "      <td>1000</td>\n",
       "      <td>1000</td>\n",
       "      <td>1963</td>\n",
       "      <td>0</td>\n",
       "      <td>Bellevue</td>\n",
       "      <td>WA 98008</td>\n",
       "    </tr>\n",
       "    <tr>\n",
       "      <th>4</th>\n",
       "      <td>550000.0</td>\n",
       "      <td>4.0</td>\n",
       "      <td>2.50</td>\n",
       "      <td>1940</td>\n",
       "      <td>10500</td>\n",
       "      <td>1.0</td>\n",
       "      <td>0</td>\n",
       "      <td>0</td>\n",
       "      <td>4</td>\n",
       "      <td>1140</td>\n",
       "      <td>800</td>\n",
       "      <td>1976</td>\n",
       "      <td>1992</td>\n",
       "      <td>Redmond</td>\n",
       "      <td>WA 98052</td>\n",
       "    </tr>\n",
       "  </tbody>\n",
       "</table>\n",
       "</div>"
      ],
      "text/plain": [
       "       price  bedrooms  bathrooms  sqft_living  sqft_lot  floors  waterfront  \\\n",
       "0   313000.0       3.0       1.50         1340      7912     1.5           0   \n",
       "1  2384000.0       5.0       2.50         3650      9050     2.0           0   \n",
       "2   342000.0       3.0       2.00         1930     11947     1.0           0   \n",
       "3   420000.0       3.0       2.25         2000      8030     1.0           0   \n",
       "4   550000.0       4.0       2.50         1940     10500     1.0           0   \n",
       "\n",
       "   view  condition  sqft_above  sqft_basement  yr_built  yr_renovated  \\\n",
       "0     0          3        1340              0      1955          2005   \n",
       "1     4          5        3370            280      1921             0   \n",
       "2     0          4        1930              0      1966             0   \n",
       "3     0          4        1000           1000      1963             0   \n",
       "4     0          4        1140            800      1976          1992   \n",
       "\n",
       "        city  statezip  \n",
       "0  Shoreline  WA 98133  \n",
       "1    Seattle  WA 98119  \n",
       "2       Kent  WA 98042  \n",
       "3   Bellevue  WA 98008  \n",
       "4    Redmond  WA 98052  "
      ]
     },
     "execution_count": 7,
     "metadata": {},
     "output_type": "execute_result"
    }
   ],
   "source": [
    "#Столбцы street,data,country-удалить,т.к. не имеют важного значения для цены на дома.\n",
    "houses=houses.drop(['date'], axis = 1)\n",
    "houses=houses.drop(['country'], axis = 1)\n",
    "houses=houses.drop(['street'],axis =1)\n",
    "houses.head(5)"
   ]
  },
  {
   "cell_type": "code",
   "execution_count": 8,
   "metadata": {},
   "outputs": [
    {
     "name": "stdout",
     "output_type": "stream",
     "text": [
      "Длина до обработки: 4600\n",
      "Пропущенные значения: 49\n",
      "Длина после обработки: 4551\n"
     ]
    }
   ],
   "source": [
    "print('Длина до обработки:',len(houses))\n",
    "count, list_drop = 0, []\n",
    "for i in range(len(houses)):\n",
    "    if houses['price'][i] == 0:\n",
    "        houses.drop(i, inplace = True)\n",
    "        count += 1\n",
    "\n",
    "print('Пропущенные значения:', count)\n",
    "print('Длина после обработки:',len(houses))"
   ]
  },
  {
   "cell_type": "code",
   "execution_count": 9,
   "metadata": {},
   "outputs": [
    {
     "data": {
      "text/html": [
       "<div>\n",
       "<style scoped>\n",
       "    .dataframe tbody tr th:only-of-type {\n",
       "        vertical-align: middle;\n",
       "    }\n",
       "\n",
       "    .dataframe tbody tr th {\n",
       "        vertical-align: top;\n",
       "    }\n",
       "\n",
       "    .dataframe thead th {\n",
       "        text-align: right;\n",
       "    }\n",
       "</style>\n",
       "<table border=\"1\" class=\"dataframe\">\n",
       "  <thead>\n",
       "    <tr style=\"text-align: right;\">\n",
       "      <th></th>\n",
       "      <th>price</th>\n",
       "      <th>bedrooms</th>\n",
       "      <th>bathrooms</th>\n",
       "      <th>sqft_living</th>\n",
       "      <th>sqft_lot</th>\n",
       "      <th>floors</th>\n",
       "      <th>waterfront</th>\n",
       "      <th>view</th>\n",
       "      <th>condition</th>\n",
       "      <th>sqft_above</th>\n",
       "      <th>...</th>\n",
       "      <th>statezip_WA 98155</th>\n",
       "      <th>statezip_WA 98166</th>\n",
       "      <th>statezip_WA 98168</th>\n",
       "      <th>statezip_WA 98177</th>\n",
       "      <th>statezip_WA 98178</th>\n",
       "      <th>statezip_WA 98188</th>\n",
       "      <th>statezip_WA 98198</th>\n",
       "      <th>statezip_WA 98199</th>\n",
       "      <th>statezip_WA 98288</th>\n",
       "      <th>statezip_WA 98354</th>\n",
       "    </tr>\n",
       "  </thead>\n",
       "  <tbody>\n",
       "    <tr>\n",
       "      <th>0</th>\n",
       "      <td>313000.0</td>\n",
       "      <td>3.0</td>\n",
       "      <td>1.50</td>\n",
       "      <td>1340</td>\n",
       "      <td>7912</td>\n",
       "      <td>1.5</td>\n",
       "      <td>0</td>\n",
       "      <td>0</td>\n",
       "      <td>3</td>\n",
       "      <td>1340</td>\n",
       "      <td>...</td>\n",
       "      <td>0</td>\n",
       "      <td>0</td>\n",
       "      <td>0</td>\n",
       "      <td>0</td>\n",
       "      <td>0</td>\n",
       "      <td>0</td>\n",
       "      <td>0</td>\n",
       "      <td>0</td>\n",
       "      <td>0</td>\n",
       "      <td>0</td>\n",
       "    </tr>\n",
       "    <tr>\n",
       "      <th>1</th>\n",
       "      <td>2384000.0</td>\n",
       "      <td>5.0</td>\n",
       "      <td>2.50</td>\n",
       "      <td>3650</td>\n",
       "      <td>9050</td>\n",
       "      <td>2.0</td>\n",
       "      <td>0</td>\n",
       "      <td>4</td>\n",
       "      <td>5</td>\n",
       "      <td>3370</td>\n",
       "      <td>...</td>\n",
       "      <td>0</td>\n",
       "      <td>0</td>\n",
       "      <td>0</td>\n",
       "      <td>0</td>\n",
       "      <td>0</td>\n",
       "      <td>0</td>\n",
       "      <td>0</td>\n",
       "      <td>0</td>\n",
       "      <td>0</td>\n",
       "      <td>0</td>\n",
       "    </tr>\n",
       "    <tr>\n",
       "      <th>2</th>\n",
       "      <td>342000.0</td>\n",
       "      <td>3.0</td>\n",
       "      <td>2.00</td>\n",
       "      <td>1930</td>\n",
       "      <td>11947</td>\n",
       "      <td>1.0</td>\n",
       "      <td>0</td>\n",
       "      <td>0</td>\n",
       "      <td>4</td>\n",
       "      <td>1930</td>\n",
       "      <td>...</td>\n",
       "      <td>0</td>\n",
       "      <td>0</td>\n",
       "      <td>0</td>\n",
       "      <td>0</td>\n",
       "      <td>0</td>\n",
       "      <td>0</td>\n",
       "      <td>0</td>\n",
       "      <td>0</td>\n",
       "      <td>0</td>\n",
       "      <td>0</td>\n",
       "    </tr>\n",
       "    <tr>\n",
       "      <th>3</th>\n",
       "      <td>420000.0</td>\n",
       "      <td>3.0</td>\n",
       "      <td>2.25</td>\n",
       "      <td>2000</td>\n",
       "      <td>8030</td>\n",
       "      <td>1.0</td>\n",
       "      <td>0</td>\n",
       "      <td>0</td>\n",
       "      <td>4</td>\n",
       "      <td>1000</td>\n",
       "      <td>...</td>\n",
       "      <td>0</td>\n",
       "      <td>0</td>\n",
       "      <td>0</td>\n",
       "      <td>0</td>\n",
       "      <td>0</td>\n",
       "      <td>0</td>\n",
       "      <td>0</td>\n",
       "      <td>0</td>\n",
       "      <td>0</td>\n",
       "      <td>0</td>\n",
       "    </tr>\n",
       "  </tbody>\n",
       "</table>\n",
       "<p>4 rows × 134 columns</p>\n",
       "</div>"
      ],
      "text/plain": [
       "       price  bedrooms  bathrooms  sqft_living  sqft_lot  floors  waterfront  \\\n",
       "0   313000.0       3.0       1.50         1340      7912     1.5           0   \n",
       "1  2384000.0       5.0       2.50         3650      9050     2.0           0   \n",
       "2   342000.0       3.0       2.00         1930     11947     1.0           0   \n",
       "3   420000.0       3.0       2.25         2000      8030     1.0           0   \n",
       "\n",
       "   view  condition  sqft_above  ...  statezip_WA 98155  statezip_WA 98166  \\\n",
       "0     0          3        1340  ...                  0                  0   \n",
       "1     4          5        3370  ...                  0                  0   \n",
       "2     0          4        1930  ...                  0                  0   \n",
       "3     0          4        1000  ...                  0                  0   \n",
       "\n",
       "   statezip_WA 98168  statezip_WA 98177  statezip_WA 98178  statezip_WA 98188  \\\n",
       "0                  0                  0                  0                  0   \n",
       "1                  0                  0                  0                  0   \n",
       "2                  0                  0                  0                  0   \n",
       "3                  0                  0                  0                  0   \n",
       "\n",
       "   statezip_WA 98198  statezip_WA 98199  statezip_WA 98288  statezip_WA 98354  \n",
       "0                  0                  0                  0                  0  \n",
       "1                  0                  0                  0                  0  \n",
       "2                  0                  0                  0                  0  \n",
       "3                  0                  0                  0                  0  \n",
       "\n",
       "[4 rows x 134 columns]"
      ]
     },
     "execution_count": 9,
     "metadata": {},
     "output_type": "execute_result"
    }
   ],
   "source": [
    "##Теперь мы всё загружаем в одну колонку с помощью One-hot-encode.\n",
    "houses_endcode=pd.get_dummies(houses)\n",
    "houses_endcode.head(4)"
   ]
  },
  {
   "cell_type": "code",
   "execution_count": 10,
   "metadata": {},
   "outputs": [
    {
     "data": {
      "text/plain": [
       "(4551, 15)"
      ]
     },
     "execution_count": 10,
     "metadata": {},
     "output_type": "execute_result"
    }
   ],
   "source": [
    "houses.shape"
   ]
  },
  {
   "cell_type": "code",
   "execution_count": 11,
   "metadata": {},
   "outputs": [
    {
     "data": {
      "text/plain": [
       "(4551, 14)"
      ]
     },
     "execution_count": 11,
     "metadata": {},
     "output_type": "execute_result"
    }
   ],
   "source": [
    "X = houses.iloc[:, 1:]\n",
    "X.shape"
   ]
  },
  {
   "cell_type": "code",
   "execution_count": 12,
   "metadata": {},
   "outputs": [],
   "source": [
    "#После того, как получили нужные нам данные. Нам остается их разбить на контрольную и обучащую выборку.\n",
    "houses.shape\n",
    "X =np.array(houses_endcode)[:, 1:]\n",
    "Y =np.array(houses_endcode)[:,0]\n",
    "X_train,X_test,Y_train,Y_test=train_test_split(X,Y,test_size=.2,shuffle=False)"
   ]
  },
  {
   "cell_type": "code",
   "execution_count": 13,
   "metadata": {},
   "outputs": [
    {
     "name": "stdout",
     "output_type": "stream",
     "text": [
      "Ошибка предсказаний = 991125.3911514686\n"
     ]
    }
   ],
   "source": [
    "model= sm.OLS(Y_train,X_train)\n",
    "ols=model.fit()\n",
    "\n",
    "y_test_ols=ols.predict(X_test)\n",
    "rmse=0#RMSE-среднеквадратичное отклонение нужно для вывода ошибок предсказаний\n",
    "for i in range(len(Y_test)):\n",
    "    rmse+=(Y_test[i]-y_test_ols[i])**2\n",
    "rmse=math.sqrt(rmse/len(Y_test))\n",
    "print('Ошибка предсказаний =',rmse)"
   ]
  },
  {
   "cell_type": "markdown",
   "metadata": {},
   "source": [
    "#### 2.Исследуем значимость модели и коэффициентов линейной регрессии."
   ]
  },
  {
   "cell_type": "code",
   "execution_count": 14,
   "metadata": {
    "scrolled": false
   },
   "outputs": [
    {
     "name": "stdout",
     "output_type": "stream",
     "text": [
      "                            OLS Regression Results                            \n",
      "==============================================================================\n",
      "Dep. Variable:                      y   R-squared:                       0.808\n",
      "Model:                            OLS   Adj. R-squared:                  0.802\n",
      "Method:                 Least Squares   F-statistic:                     141.2\n",
      "Date:                Fri, 11 Dec 2020   Prob (F-statistic):               0.00\n",
      "Time:                        15:56:14   Log-Likelihood:                -48793.\n",
      "No. Observations:                3640   AIC:                         9.780e+04\n",
      "Df Residuals:                    3534   BIC:                         9.845e+04\n",
      "Df Model:                         105                                         \n",
      "Covariance Type:            nonrobust                                         \n",
      "==============================================================================\n",
      "                 coef    std err          t      P>|t|      [0.025      0.975]\n",
      "------------------------------------------------------------------------------\n",
      "x1         -3.049e+04   4019.714     -7.584      0.000   -3.84e+04   -2.26e+04\n",
      "x2          1.938e+04   6389.819      3.033      0.002    6852.414    3.19e+04\n",
      "x3           140.0420      3.751     37.336      0.000     132.688     147.396\n",
      "x4            -0.0247      0.081     -0.304      0.761      -0.183       0.134\n",
      "x5         -4.466e+04   7997.176     -5.585      0.000   -6.03e+04    -2.9e+04\n",
      "x6          6.458e+05   3.66e+04     17.647      0.000    5.74e+05    7.18e+05\n",
      "x7          5.875e+04   4203.897     13.976      0.000    5.05e+04     6.7e+04\n",
      "x8          2.843e+04   4996.747      5.690      0.000    1.86e+04    3.82e+04\n",
      "x9           128.1238      4.149     30.882      0.000     119.990     136.258\n",
      "x10           11.9153      5.407      2.204      0.028       1.314      22.517\n",
      "x11         -217.0348    152.150     -1.426      0.154    -515.346      81.277\n",
      "x12            3.5142      3.228      1.089      0.276      -2.815       9.843\n",
      "x13         1.486e+05   2.03e+05      0.732      0.464   -2.49e+05    5.47e+05\n",
      "x14         1.724e+05   1.93e+05      0.892      0.372   -2.06e+05    5.51e+05\n",
      "x15         8.672e+04   2.23e+05      0.389      0.697    -3.5e+05    5.24e+05\n",
      "x16         3.665e+05   1.71e+05      2.142      0.032     3.1e+04    7.02e+05\n",
      "x17         1.771e+05   1.58e+05      1.124      0.261   -1.32e+05    4.86e+05\n",
      "x18         2.123e+05   1.72e+05      1.236      0.217   -1.25e+05    5.49e+05\n",
      "x19         4.007e+05    2.4e+05      1.667      0.096   -7.05e+04    8.72e+05\n",
      "x20         1.826e+05   1.53e+05      1.190      0.234   -1.18e+05    4.83e+05\n",
      "x21          3.48e+05   1.79e+05      1.946      0.052   -2580.467    6.99e+05\n",
      "x22         1.894e+05   2.06e+05      0.919      0.358   -2.15e+05    5.94e+05\n",
      "x23         3.981e+05   2.48e+05      1.605      0.109   -8.83e+04    8.85e+05\n",
      "x24         1.651e+05   1.53e+05      1.078      0.281   -1.35e+05    4.65e+05\n",
      "x25         1.278e+05   1.54e+05      0.831      0.406   -1.74e+05    4.29e+05\n",
      "x26         1.998e+05   1.55e+05      1.291      0.197   -1.04e+05    5.03e+05\n",
      "x27         1.059e+05   1.98e+05      0.534      0.593   -2.83e+05    4.94e+05\n",
      "x28         2.495e+05   1.97e+05      1.269      0.205   -1.36e+05    6.35e+05\n",
      "x29         3.168e+05   2.16e+05      1.468      0.142   -1.06e+05     7.4e+05\n",
      "x30         1.649e+05   1.75e+05      0.945      0.345   -1.77e+05    5.07e+05\n",
      "x31         1.598e+05   2.03e+05      0.786      0.432   -2.39e+05    5.58e+05\n",
      "x32         2.768e+05   1.57e+05      1.761      0.078   -3.15e+04    5.85e+05\n",
      "x33         2.754e+05   2.41e+05      1.141      0.254   -1.98e+05    7.49e+05\n",
      "x34         1.343e+05   1.53e+05      0.878      0.380   -1.66e+05    4.34e+05\n",
      "x35         8.061e+05   1.55e+05      5.212      0.000    5.03e+05    1.11e+06\n",
      "x36         4.007e+05   1.52e+05      2.631      0.009    1.02e+05    6.99e+05\n",
      "x37         1.859e+05   1.74e+05      1.071      0.284   -1.55e+05    5.26e+05\n",
      "x38         3.079e+05    2.2e+05      1.402      0.161   -1.23e+05    7.38e+05\n",
      "x39          5.05e+05   2.47e+05      2.043      0.041    2.04e+04     9.9e+05\n",
      "x40         1.658e+05   1.53e+05      1.084      0.278   -1.34e+05    4.66e+05\n",
      "x41         1.337e+05   1.57e+05      0.851      0.395   -1.75e+05    4.42e+05\n",
      "x42         1.813e+05   1.62e+05      1.122      0.262   -1.35e+05    4.98e+05\n",
      "x43          1.49e+05   1.56e+05      0.955      0.340   -1.57e+05    4.55e+05\n",
      "x44         2.909e+05   2.21e+05      1.314      0.189   -1.43e+05    7.25e+05\n",
      "x45         1.919e+05   2.18e+05      0.882      0.378   -2.35e+05    6.18e+05\n",
      "x46         3.072e+05   2.09e+05      1.467      0.142   -1.03e+05    7.18e+05\n",
      "x47         4.063e+05   2.41e+05      1.683      0.092   -6.69e+04     8.8e+05\n",
      "x48         4.153e+05   2.36e+05      1.761      0.078   -4.71e+04    8.78e+05\n",
      "x49         3.223e+05   2.39e+05      1.351      0.177   -1.45e+05     7.9e+05\n",
      "x50         1.232e+05   1.61e+05      0.765      0.444   -1.92e+05    4.39e+05\n",
      "x51         1.551e+05   1.53e+05      1.013      0.311   -1.45e+05    4.55e+05\n",
      "x52         2.497e+05   1.73e+05      1.445      0.148    -8.9e+04    5.88e+05\n",
      "x53         3.816e+05   2.38e+05      1.602      0.109   -8.54e+04    8.49e+05\n",
      "x54          9.49e+04   1.53e+05      0.621      0.535   -2.05e+05    3.94e+05\n",
      "x55         2.713e+05   2.04e+05      1.332      0.183   -1.28e+05    6.71e+05\n",
      "x56         6.584e+05    1.9e+05      3.468      0.001    2.86e+05    1.03e+06\n",
      "x57         8.746e+04    1.2e+05      0.730      0.465   -1.47e+05    3.22e+05\n",
      "x58         7.198e+04   1.22e+05      0.592      0.554   -1.67e+05    3.11e+05\n",
      "x59         1.345e+05   1.27e+05      1.059      0.290   -1.15e+05    3.83e+05\n",
      "x60         7.037e+05   1.37e+05      5.125      0.000    4.34e+05    9.73e+05\n",
      "x61         2.323e+05    1.4e+05      1.662      0.097   -4.17e+04    5.06e+05\n",
      "x62         1.946e+05   1.39e+05      1.403      0.161   -7.72e+04    4.66e+05\n",
      "x63         1.676e+05    1.4e+05      1.197      0.231   -1.07e+05    4.42e+05\n",
      "x64         1.614e+05   1.39e+05      1.160      0.246   -1.11e+05    4.34e+05\n",
      "x65         1.771e+05   1.58e+05      1.124      0.261   -1.32e+05    4.86e+05\n",
      "x66         1.651e+05   1.75e+05      0.942      0.346   -1.79e+05    5.09e+05\n",
      "x67         1.826e+05   1.53e+05      1.190      0.234   -1.18e+05    4.83e+05\n",
      "x68         1.651e+05   1.53e+05      1.078      0.281   -1.35e+05    4.65e+05\n",
      "x69         1.278e+05   1.54e+05      0.831      0.406   -1.74e+05    4.29e+05\n",
      "x70         9.281e+04   1.27e+05      0.733      0.463   -1.55e+05    3.41e+05\n",
      "x71         1.998e+05   1.55e+05      1.291      0.197   -1.04e+05    5.03e+05\n",
      "x72         8.967e+04   1.28e+05      0.701      0.483   -1.61e+05    3.41e+05\n",
      "x73         2.121e+05   1.72e+05      1.233      0.218   -1.25e+05    5.49e+05\n",
      "x74         1.774e+05   1.28e+05      1.385      0.166   -7.37e+04    4.28e+05\n",
      "x75          1.01e+05   1.06e+05      0.956      0.339   -1.06e+05    3.08e+05\n",
      "x76         1.202e+05   1.05e+05      1.150      0.250   -8.48e+04    3.25e+05\n",
      "x77         5.607e+04   1.07e+05      0.526      0.599   -1.53e+05    2.65e+05\n",
      "x78         3.456e+05   1.59e+05      2.178      0.029    3.45e+04    6.57e+05\n",
      "x79         1.807e+05   1.59e+05      1.140      0.254    -1.3e+05    4.92e+05\n",
      "x80         1.343e+05   1.53e+05      0.878      0.380   -1.66e+05    4.34e+05\n",
      "x81         8.061e+05   1.55e+05      5.212      0.000    5.03e+05    1.11e+06\n",
      "x82         4.007e+05   1.52e+05      2.631      0.009    1.02e+05    6.99e+05\n",
      "x83          7.19e+04   1.04e+05      0.694      0.488   -1.31e+05    2.75e+05\n",
      "x84         1.658e+05   1.53e+05      1.084      0.278   -1.34e+05    4.66e+05\n",
      "x85         1.337e+05   1.57e+05      0.851      0.395   -1.75e+05    4.42e+05\n",
      "x86         1.813e+05   1.62e+05      1.122      0.262   -1.35e+05    4.98e+05\n",
      "x87          1.49e+05   1.56e+05      0.955      0.340   -1.57e+05    4.55e+05\n",
      "x88         2.228e+05   1.32e+05      1.694      0.090   -3.51e+04    4.81e+05\n",
      "x89         1.617e+05   1.33e+05      1.219      0.223   -9.84e+04    4.22e+05\n",
      "x90         9.493e+04   9.26e+04      1.025      0.306   -8.67e+04    2.77e+05\n",
      "x91         1.288e+05      9e+04      1.431      0.152   -4.76e+04    3.05e+05\n",
      "x92         5.168e+04   9.31e+04      0.555      0.579   -1.31e+05    2.34e+05\n",
      "x93         1.016e+05   8.97e+04      1.133      0.257   -7.43e+04    2.77e+05\n",
      "x94         1.228e+05   8.98e+04      1.367      0.172   -5.33e+04    2.99e+05\n",
      "x95         1.551e+05   1.53e+05      1.013      0.311   -1.45e+05    4.55e+05\n",
      "x96         2.497e+05   1.73e+05      1.445      0.148    -8.9e+04    5.88e+05\n",
      "x97          9.49e+04   1.53e+05      0.621      0.535   -2.05e+05    3.94e+05\n",
      "x98         1.423e+05   1.03e+05      1.380      0.168   -5.98e+04    3.44e+05\n",
      "x99         1.264e+05   1.14e+05      1.107      0.269   -9.76e+04    3.51e+05\n",
      "x100        1.369e+05   1.15e+05      1.190      0.234   -8.87e+04    3.63e+05\n",
      "x101         1.29e+05   1.03e+05      1.248      0.212   -7.37e+04    3.32e+05\n",
      "x102        4.016e+04   1.22e+05      0.328      0.743      -2e+05     2.8e+05\n",
      "x103        2.969e+05   7.51e+04      3.950      0.000     1.5e+05    4.44e+05\n",
      "x104         1.93e+05   6.67e+04      2.893      0.004    6.22e+04    3.24e+05\n",
      "x105        3.901e+05   6.92e+04      5.634      0.000    2.54e+05    5.26e+05\n",
      "x106       -2.226e+04   7.09e+04     -0.314      0.754   -1.61e+05    1.17e+05\n",
      "x107        2.054e+05   6.83e+04      3.008      0.003    7.15e+04    3.39e+05\n",
      "x108       -1.326e+04   7.29e+04     -0.182      0.856   -1.56e+05     1.3e+05\n",
      "x109        4.665e+05   7.06e+04      6.603      0.000    3.28e+05    6.05e+05\n",
      "x110        4.334e+05   6.76e+04      6.413      0.000    3.01e+05    5.66e+05\n",
      "x111        1.658e+05   6.78e+04      2.445      0.015    3.29e+04    2.99e+05\n",
      "x112         1.58e+05   6.95e+04      2.275      0.023    2.18e+04    2.94e+05\n",
      "x113        1.753e+05   6.78e+04      2.586      0.010    4.24e+04    3.08e+05\n",
      "x114         918.1183   6.93e+04      0.013      0.989   -1.35e+05    1.37e+05\n",
      "x115        3.881e+05   6.92e+04      5.611      0.000    2.52e+05    5.24e+05\n",
      "x116        2.043e+05   6.83e+04      2.993      0.003    7.05e+04    3.38e+05\n",
      "x117        1.472e+04   7.06e+04      0.208      0.835   -1.24e+05    1.53e+05\n",
      "x118        4.336e+04   7.03e+04      0.617      0.537   -9.44e+04    1.81e+05\n",
      "x119        4.582e+04   7.08e+04      0.647      0.518    -9.3e+04    1.85e+05\n",
      "x120        1.047e+05   7.02e+04      1.491      0.136    -3.3e+04    2.42e+05\n",
      "x121        1.485e+05   6.84e+04      2.171      0.030    1.44e+04    2.83e+05\n",
      "x122       -3.273e+04   7.07e+04     -0.463      0.643   -1.71e+05    1.06e+05\n",
      "x123       -6.806e+04   8.95e+04     -0.760      0.447   -2.44e+05    1.07e+05\n",
      "x124        8.355e+04   7.66e+04      1.091      0.275   -6.66e+04    2.34e+05\n",
      "x125       -1.338e+05   7.85e+04     -1.704      0.089   -2.88e+05    2.02e+04\n",
      "x126        -8.87e+04   7.13e+04     -1.245      0.213   -2.28e+05     5.1e+04\n",
      "x127        1.491e+05    7.3e+04      2.044      0.041    6052.493    2.92e+05\n",
      "x128       -1.394e+05   7.24e+04     -1.925      0.054   -2.81e+05    2616.439\n",
      "x129        -1.42e+05   8.72e+04     -1.628      0.104   -3.13e+05    2.91e+04\n",
      "x130       -1.706e+05   1.03e+05     -1.653      0.098   -3.73e+05    3.17e+04\n",
      "x131        2.479e+05   6.98e+04      3.549      0.000    1.11e+05    3.85e+05\n",
      "x132        1.232e+05   1.61e+05      0.765      0.444   -1.92e+05    4.39e+05\n",
      "x133        1.859e+05   1.74e+05      1.071      0.284   -1.55e+05    5.26e+05\n",
      "==============================================================================\n",
      "Omnibus:                     3429.630   Durbin-Watson:                   2.019\n",
      "Prob(Omnibus):                  0.000   Jarque-Bera (JB):           691557.818\n",
      "Skew:                           3.922   Prob(JB):                         0.00\n",
      "Kurtosis:                      70.069   Cond. No.                     1.20e+16\n",
      "==============================================================================\n",
      "\n",
      "Notes:\n",
      "[1] Standard Errors assume that the covariance matrix of the errors is correctly specified.\n",
      "[2] The smallest eigenvalue is 4.19e-20. This might indicate that there are\n",
      "strong multicollinearity problems or that the design matrix is singular.\n"
     ]
    }
   ],
   "source": [
    "houses = sm.OLS(Y_train, X_train)\n",
    "res = houses.fit()\n",
    "print(res.summary())\n",
    "#С помощью метода наименьшых квадратов выводим нашу обучающую выборку для оценки параметров\n",
    "##неизвестной модели линейной регрессии."
   ]
  },
  {
   "cell_type": "code",
   "execution_count": 15,
   "metadata": {
    "scrolled": false
   },
   "outputs": [
    {
     "name": "stdout",
     "output_type": "stream",
     "text": [
      "[4.24539098e-014 2.43869710e-003 1.75961925e-257 7.60877577e-001\n",
      " 2.51290018e-008 7.36114269e-067 3.02498299e-043 1.37384414e-008\n",
      " 1.31980499e-185 2.76132878e-002 1.53827088e-001 2.76393809e-001\n",
      " 4.64039257e-001 3.72430488e-001 6.97225865e-001 3.22526839e-002\n",
      " 2.61225157e-001 2.16633672e-001 9.55219548e-002 2.34211484e-001\n",
      " 5.17094497e-002 3.58246709e-001 1.08656882e-001 2.81168665e-001\n",
      " 4.05843708e-001 1.96725644e-001 5.93262296e-001 2.04691791e-001\n",
      " 1.42243521e-001 3.44805714e-001 4.32049542e-001 7.84003929e-002\n",
      " 2.53973252e-001 3.80013612e-001 1.97714388e-007 8.55530726e-003\n",
      " 2.84455360e-001 1.61088405e-001 4.11207945e-002 2.78394246e-001\n",
      " 3.95068764e-001 2.61799692e-001 3.39525880e-001 1.89091039e-001\n",
      " 3.77828435e-001 1.42459394e-001 9.24070653e-002 7.83417363e-002\n",
      " 1.76768895e-001 4.44292975e-001 3.11219548e-001 1.48461306e-001\n",
      " 1.09221820e-001 5.34538839e-001 1.82851945e-001 5.30891795e-004\n",
      " 4.65418729e-001 5.54175578e-001 2.89741148e-001 3.13100192e-007\n",
      " 9.65345198e-002 1.60557409e-001 2.31282066e-001 2.46185918e-001\n",
      " 2.61225157e-001 3.46311589e-001 2.34211484e-001 2.81168665e-001\n",
      " 4.05843708e-001 4.63387446e-001 1.96725644e-001 4.83390914e-001\n",
      " 2.17503618e-001 1.66091656e-001 3.38942952e-001 2.50364432e-001\n",
      " 5.99078905e-001 2.94700654e-002 2.54470248e-001 3.80013612e-001\n",
      " 1.97714388e-007 8.55530726e-003 4.87975049e-001 2.78394246e-001\n",
      " 3.95068764e-001 2.61799692e-001 3.39525880e-001 9.04285030e-002\n",
      " 2.22845407e-001 3.05596205e-001 1.52429372e-001 5.78746635e-001\n",
      " 2.57409053e-001 1.71676829e-001 3.11219548e-001 1.48461306e-001\n",
      " 5.34538839e-001 1.67595489e-001 2.68573347e-001 2.34110518e-001\n",
      " 2.12149255e-001 7.42965781e-001 7.95753943e-005 3.83637708e-003\n",
      " 1.90270072e-008 7.53616459e-001 2.64603932e-003 8.55576612e-001\n",
      " 4.61680183e-011 1.61884742e-010 1.45186628e-002 2.29896786e-002\n",
      " 9.75653060e-003 9.89431788e-001 2.16703855e-008 2.78151495e-003\n",
      " 8.34862077e-001 5.37338072e-001 5.17512721e-001 1.35976805e-001\n",
      " 3.00226324e-002 6.43490607e-001 4.47229450e-001 2.75459449e-001\n",
      " 8.85595664e-002 2.13353471e-001 4.10685291e-002 5.43697805e-002\n",
      " 1.03707961e-001 9.83674851e-002 3.92211252e-004 4.44292975e-001\n",
      " 2.84455360e-001]\n"
     ]
    }
   ],
   "source": [
    "#Выводом P>|t|:\n",
    "print(ols.pvalues)\n",
    "y=ols.tvalues\n",
    "x=[] "
   ]
  },
  {
   "cell_type": "markdown",
   "metadata": {},
   "source": [
    "Заметим, что в нашей модели данных cуществуют (coef, std err, t, P>|t|,[0.025 0.975]). Рассмотрев колонку под  P>|t|, то там коэффициент  P>|t|=0.00==>эти переменные не влияют на цену дома."
   ]
  },
  {
   "cell_type": "code",
   "execution_count": 16,
   "metadata": {},
   "outputs": [
    {
     "data": {
      "image/png": "[encoded data removed]",
      "text/plain": [
       "<Figure size 720x432 with 1 Axes>"
      ]
     },
     "metadata": {
      "needs_background": "light"
     },
     "output_type": "display_data"
    }
   ],
   "source": [
    "names=[]\n",
    "params=[]\n",
    "\n",
    "params=sorted(abs(ols.tvalues.copy()))[len(params)-15:]\n",
    "              \n",
    "for elem in params:\n",
    "    index=list(abs(ols.tvalues)).index(elem)\n",
    "    names.append((houses_endcode.columns[1:])[index])\n",
    "\n",
    "plt.figure(figsize=(10,6))\n",
    "plt.barh(names,params)\n",
    "plt.show()"
   ]
  },
  {
   "cell_type": "markdown",
   "metadata": {},
   "source": [
    "Самые важные признаки:sqft_living,sqft_above,waterfront,view,bedrooms."
   ]
  },
  {
   "cell_type": "code",
   "execution_count": 17,
   "metadata": {
    "scrolled": false
   },
   "outputs": [
    {
     "data": {
      "image/png": "[encoded data removed]",
      "text/plain": [
       "<Figure size 720x432 with 1 Axes>"
      ]
     },
     "metadata": {
      "needs_background": "light"
     },
     "output_type": "display_data"
    }
   ],
   "source": [
    "#выводим waterfront,view и bedrooms:\n",
    "names=[]\n",
    "params=[]\n",
    "\n",
    "params=sorted(abs(ols.tvalues.copy()))[len(params)-15:]\n",
    "a=[params[10],params[11],params[12]]              \n",
    "for elem in a:\n",
    "    index=list(abs(ols.tvalues)).index(elem)\n",
    "    names.append((houses_endcode.columns[1:])[index])\n",
    "\n",
    "plt.figure(figsize=(10,6))\n",
    "plt.barh(names,a)\n",
    "plt.show()"
   ]
  },
  {
   "cell_type": "markdown",
   "metadata": {},
   "source": [
    "#### 3. Строим решения методом бустинга. Сравниваем полученные результаты с линейной регрессией."
   ]
  },
  {
   "cell_type": "code",
   "execution_count": 18,
   "metadata": {},
   "outputs": [],
   "source": [
    "boost=GradientBoostingRegressor(random_state=0,n_estimators=10,max_depth=11)\n",
    "boost.fit(X_train,Y_train)\n",
    "y_test_boost=boost.predict(X_test)"
   ]
  },
  {
   "cell_type": "code",
   "execution_count": 19,
   "metadata": {},
   "outputs": [
    {
     "name": "stdout",
     "output_type": "stream",
     "text": [
      "Ошибка= 993768.8511497166\n"
     ]
    }
   ],
   "source": [
    "rmse=0\n",
    "for i in range(len(Y_test)):\n",
    "    rmse+=(Y_test[i] - y_test_boost[i])**2\n",
    "rmse=math.sqrt(rmse/len(Y_test))\n",
    "print(\"Ошибка=\",rmse)"
   ]
  },
  {
   "cell_type": "markdown",
   "metadata": {},
   "source": [
    "Ошибка линейной регрессии=1010994.6465697095\n",
    "Ошибка бустинга=1003693.5702543714\n",
    "Вывод:Градиентовый бустинг работает лучше."
   ]
  },
  {
   "cell_type": "markdown",
   "metadata": {},
   "source": [
    "#### 4. Строим графики полученных зависимостей для наиболее информативных переменных (отобразить на одном графике линейную регрессию и решение, полученное бустингом)."
   ]
  },
  {
   "cell_type": "markdown",
   "metadata": {},
   "source": [
    "Построить график для переменной sqft_above"
   ]
  },
  {
   "cell_type": "code",
   "execution_count": 22,
   "metadata": {
    "scrolled": false
   },
   "outputs": [
    {
     "name": "stdout",
     "output_type": "stream",
     "text": [
      "Ошибка Линейной регрессии= 1015050.8964889284\n",
      "Ошибка Градиентового бустинга = 1027881.8223831767\n"
     ]
    },
    {
     "data": {
      "image/png": "[encoded data removed]",
      "text/plain": [
       "<Figure size 432x288 with 1 Axes>"
      ]
     },
     "metadata": {
      "needs_background": "light"
     },
     "output_type": "display_data"
    }
   ],
   "source": [
    "#plot_значение\n",
    "x_range=X_train[:,8:9].copy()\n",
    "plt.plot(x_range,Y_train, '.')\n",
    "\n",
    "#plot_LinearReggression\n",
    "model=sm.OLS(Y_train,x_range)\n",
    "ols=model.fit()\n",
    "ols_y=ols.predict(x_range)\n",
    "plt.plot(x_range,ols_y)\n",
    "\n",
    "y_test_ols=ols.predict(X_test[:,8:9])\n",
    "rmse=0\n",
    "for i in range(len(Y_test)):\n",
    "    rmse+=(Y_test[i]-y_test_ols[i])**2\n",
    "rmse=math.sqrt(rmse/len(Y_test))\n",
    "print(\"Ошибка Линейной регрессии=\",rmse)\n",
    "\n",
    "#plot_GradientBossting\n",
    "boost=GradientBoostingRegressor(random_state=0,n_estimators=10,max_depth=11)\n",
    "boost.fit(x_range,Y_train)\n",
    "y_boost=[]\n",
    "x_arange= np.arange(0, 10000, 10)\n",
    "for elem in x_arange:\n",
    "    y_boost.append(boost.predict([[elem]]))\n",
    "plt.plot(x_arange,y_boost)\n",
    "\n",
    "y_test_boost=boost.predict(X_test[:,8:9])\n",
    "rmse=0\n",
    "for i in range(len(Y_test)):\n",
    "    rmse+=(Y_test[i] - y_test_boost[i])**2\n",
    "rmse=math.sqrt(rmse/len(Y_test))\n",
    "print(\"Ошибка Градиентового бустинга =\",rmse)"
   ]
  },
  {
   "cell_type": "markdown",
   "metadata": {},
   "source": [
    "Вывод:Если посмотреть график, то можно увидеть, что Линейная регрессия справляется хуже, чем Градиентовый бустинг. Это говорит о том, что Градиентовый бустинг выдает намного лучше точность.\n"
   ]
  },
  {
   "cell_type": "code",
   "execution_count": null,
   "metadata": {},
   "outputs": [],
   "source": []
  }
 ],
 "metadata": {
  "kernelspec": {
   "display_name": "Python 3",
   "language": "python",
   "name": "python3"
  },
  "language_info": {
   "codemirror_mode": {
    "name": "ipython",
    "version": 3
   },
   "file_extension": ".py",
   "mimetype": "text/x-python",
   "name": "python",
   "nbconvert_exporter": "python",
   "pygments_lexer": "ipython3",
   "version": "3.9.0"
  }
 },
 "nbformat": 4,
 "nbformat_minor": 4
}
